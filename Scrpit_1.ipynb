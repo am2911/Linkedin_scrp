{
 "cells": [
  {
   "cell_type": "code",
   "execution_count": 38,
   "metadata": {},
   "outputs": [],
   "source": [
    "from selenium import webdriver\n",
    "from selenium.webdriver.common.keys import Keys\n",
    "import time\n",
    "from bs4 import BeautifulSoup\n",
    "import pandas as pd"
   ]
  },
  {
   "cell_type": "code",
   "execution_count": 3,
   "metadata": {},
   "outputs": [
    {
     "name": "stderr",
     "output_type": "stream",
     "text": [
      "C:\\Users\\HP\\AppData\\Roaming\\Python\\Python37\\site-packages\\ipykernel_launcher.py:10: DeprecationWarning: executable_path has been deprecated, please pass in a Service object\n",
      "  # Remove the CWD from sys.path while we load stuff.\n"
     ]
    },
    {
     "name": "stdout",
     "output_type": "stream",
     "text": [
      "App Aware Link: https://www.linkedin.com/feed/?nis=true&\n",
      "Nmae: \n",
      "\n",
      "App Aware Link: https://www.linkedin.com/mynetwork/?\n",
      "Nmae: 1\n",
      "\n",
      "App Aware Link: https://www.linkedin.com/notifications/?\n",
      "Nmae: 9\n",
      "\n",
      "App Aware Link: https://www.linkedin.com/in/aman-singh-8351571a4?miniProfileUrn=urn%3Ali%3Afs_miniProfile%3AACoAAC-4VOkBRVswBQA-bb6s_UO9UtM_uBlo7DY\n",
      "Nmae: Aman Singh\n",
      "\n",
      "App Aware Link: https://www.linkedin.com/in/aman-singh-8351571a4?miniProfileUrn=urn%3Ali%3Afs_miniProfile%3AACoAAC-4VOkBRVswBQA-bb6s_UO9UtM_uBlo7DY\n",
      "Nmae: Aman Singh\n",
      "\n",
      "App Aware Link: https://www.linkedin.com/in/amansinghen?miniProfileUrn=urn%3Ali%3Afs_miniProfile%3AACoAAC1FByEBh7v8SWEYcPAO8wpN3-VeU1SQy4s\n",
      "Nmae: Aman Singh\n",
      "\n",
      "App Aware Link: https://www.linkedin.com/in/aman-singh-386a42192?miniProfileUrn=urn%3Ali%3Afs_miniProfile%3AACoAAC1cK5YBikHaxgE2BIRwX6Zo8eUliMs1Y4Y\n",
      "Nmae: Aman Singh\n",
      "\n",
      "App Aware Link: https://www.linkedin.com/in/ACoAAAMkc8kBdWKTLlR2OReZqTQBn4_3fRYgRlY?miniProfileUrn=urn%3Ali%3Afs_miniProfile%3AACoAAAMkc8kBdWKTLlR2OReZqTQBn4_3fRYgRlY\n",
      "Nmae: Aman Gupta\n",
      "\n",
      "App Aware Link: https://www.linkedin.com/company/unstop/\n",
      "Nmae: Unstop\n",
      "\n",
      "App Aware Link: https://www.linkedin.com/in/ACoAAEZ3RAEBnachRKLZjKLuBF-loL6uUwLTo60?miniProfileUrn=urn%3Ali%3Afs_miniProfile%3AACoAAEZ3RAEBnachRKLZjKLuBF-loL6uUwLTo60\n",
      "Nmae: Aman Singh\n",
      "\n",
      "App Aware Link: https://www.linkedin.com/in/amanrajok?miniProfileUrn=urn%3Ali%3Afs_miniProfile%3AACoAACAKLzgBIGJOvQY5MAi1JerPmvShSkT-TMg\n",
      "Nmae: Aman Singh\n",
      "\n",
      "App Aware Link: https://www.linkedin.com/in/aman-singh-22a4001a3?miniProfileUrn=urn%3Ali%3Afs_miniProfile%3AACoAAC-UYUIBnyaee7FqWafHyXG_Z0kSds3z1hE\n",
      "Nmae: AMAN SINGH\n",
      "\n",
      "App Aware Link: https://www.linkedin.com/in/aman-singh-2455551a2?miniProfileUrn=urn%3Ali%3Afs_miniProfile%3AACoAAC9sVBUBdTVP1UOf-Jru_YkuoAVXUBXKMJ4\n",
      "Nmae: AMAN SINGH\n",
      "\n",
      "App Aware Link: https://www.linkedin.com/in/aman-singh-98b9701ab?miniProfileUrn=urn%3Ali%3Afs_miniProfile%3AACoAADEWGHsB_vsk3YA1Ki8tm8QdsbBTwP2HWFI\n",
      "Nmae: Aman Singh\n",
      "\n",
      "App Aware Link: https://www.linkedin.com/in/aman-singh-00b914199?miniProfileUrn=urn%3Ali%3Afs_miniProfile%3AACoAAC6WaAsBh9gCJUCWotMyzjInahXY7gNPpls\n",
      "Nmae: Aman Singh\n",
      "\n",
      "App Aware Link: https://www.linkedin.com/in/amanrajsingh28?miniProfileUrn=urn%3Ali%3Afs_miniProfile%3AACoAADOlAXIBF4XZMs_7JX0iViGllPX6O2IzRaY\n",
      "Nmae: Aman Raj Singh\n",
      "\n",
      "App Aware Link: https://www.linkedin.com/in/aman-singh-5382351b2?miniProfileUrn=urn%3Ali%3Afs_miniProfile%3AACoAADGDD7wB21rj_sNY7xYlK1tyApRbBW0Dno0\n",
      "Nmae: Aman Singh\n",
      "\n"
     ]
    }
   ],
   "source": [
    "SUbtitle_List=[]\n",
    "Location_List=[]\n",
    "link_list=[]\n",
    "UserName_list=[]\n",
    "\n",
    "def extract_linkedin_data_with_bs(first_name, last_name):\n",
    "\n",
    "    chrome_driver_path = 'C:/Users/HP/Desktop/Task/chromedriver.exe'\n",
    "\n",
    "    driver = webdriver.Chrome(chrome_driver_path)\n",
    "\n",
    "    # Navigate to the LinkedIn login page\n",
    "    driver.get(\"https://www.linkedin.com/login\")\n",
    "\n",
    "    file = open('config.txt')\n",
    "    lines = file.readlines()\n",
    "    linkedin_email = lines[0]\n",
    "    linkedin_password = lines[1]\n",
    "\n",
    "    # Find the email and password input fields and enter your credentials\n",
    "    email_field = driver.find_element(\"id\", \"username\")\n",
    "    email_field.send_keys(linkedin_email)\n",
    "    \n",
    "    password_field = driver.find_element(\"id\", \"password\")\n",
    "    password_field.send_keys(linkedin_password)\n",
    "\n",
    "    # Submit the login form\n",
    "    password_field.send_keys(Keys.RETURN)\n",
    "\n",
    "    # Wait for a few seconds to allow the login process to complete\n",
    "    time.sleep(6)\n",
    "\n",
    "    link = f'https://www.linkedin.com/search/results/all/?keywords={first_name}%20{last_name}&origin=GLOBAL_SEARCH_HEADER&sid=I%3Ak--61b706114/'\n",
    "    driver.get(link)\n",
    "    time.sleep(6)\n",
    "\n",
    "\n",
    "    # Extract HTML source after the search results page is loaded\n",
    "    page_source = driver.page_source\n",
    "    \n",
    "    # Use BeautifulSoup to parse the HTML\n",
    "    soup = BeautifulSoup(page_source, 'html.parser')\n",
    "\n",
    "    # Extracting \"link\" ,\"Username, Location and headline, \"\n",
    "    links1 = soup.find_all('a', class_='app-aware-link')\n",
    "    for link in links1:\n",
    "        app_aware_link = link['href']\n",
    "        \n",
    "        # Check if the span with aria-hidden attribute exists\n",
    "        span_aria_hidden = link.find('span', {'aria-hidden': True})\n",
    "        if span_aria_hidden:\n",
    "            rahul_singh_text = span_aria_hidden.text.strip()\n",
    "            print(\"App Aware Link:\", app_aware_link)\n",
    "            print(\"Nmae:\", rahul_singh_text)\n",
    "            print()\n",
    "            link_list.append(app_aware_link)\n",
    "            UserName_list.append(rahul_singh_text)\n",
    "    \n",
    "    subtitles = [subtitle.get_text(strip=True) for subtitle in soup.find_all(\"div\",class_='entity-result__primary-subtitle t-14 t-black t-normal')]\n",
    "    Locations = [location.get_text(strip=True) for location in soup.find_all(\"div\",class_='entity-result__secondary-subtitle t-14 t-normal')]\n",
    "\n",
    "    SUbtitle_List.append(subtitles)\n",
    "    Location_List.append(Locations)\n",
    "\n",
    "# Take user input for first name and last name\n",
    "first_name_input = input(\"Enter the first name: \")\n",
    "last_name_input = input(\"Enter the last name: \")\n",
    "search_results = extract_linkedin_data_with_bs(first_name_input, last_name_input)"
   ]
  },
  {
   "cell_type": "code",
   "execution_count": 28,
   "metadata": {},
   "outputs": [
    {
     "data": {
      "text/plain": [
       "['https://www.linkedin.com/feed/?nis=true&',\n",
       " 'https://www.linkedin.com/mynetwork/?',\n",
       " 'https://www.linkedin.com/notifications/?',\n",
       " 'https://www.linkedin.com/in/aman-singh-8351571a4?miniProfileUrn=urn%3Ali%3Afs_miniProfile%3AACoAAC-4VOkBRVswBQA-bb6s_UO9UtM_uBlo7DY',\n",
       " 'https://www.linkedin.com/in/aman-singh-8351571a4?miniProfileUrn=urn%3Ali%3Afs_miniProfile%3AACoAAC-4VOkBRVswBQA-bb6s_UO9UtM_uBlo7DY',\n",
       " 'https://www.linkedin.com/in/amansinghen?miniProfileUrn=urn%3Ali%3Afs_miniProfile%3AACoAAC1FByEBh7v8SWEYcPAO8wpN3-VeU1SQy4s',\n",
       " 'https://www.linkedin.com/in/aman-singh-386a42192?miniProfileUrn=urn%3Ali%3Afs_miniProfile%3AACoAAC1cK5YBikHaxgE2BIRwX6Zo8eUliMs1Y4Y',\n",
       " 'https://www.linkedin.com/in/ACoAAAMkc8kBdWKTLlR2OReZqTQBn4_3fRYgRlY?miniProfileUrn=urn%3Ali%3Afs_miniProfile%3AACoAAAMkc8kBdWKTLlR2OReZqTQBn4_3fRYgRlY',\n",
       " 'https://www.linkedin.com/company/unstop/',\n",
       " 'https://www.linkedin.com/in/ACoAAEZ3RAEBnachRKLZjKLuBF-loL6uUwLTo60?miniProfileUrn=urn%3Ali%3Afs_miniProfile%3AACoAAEZ3RAEBnachRKLZjKLuBF-loL6uUwLTo60',\n",
       " 'https://www.linkedin.com/in/amanrajok?miniProfileUrn=urn%3Ali%3Afs_miniProfile%3AACoAACAKLzgBIGJOvQY5MAi1JerPmvShSkT-TMg',\n",
       " 'https://www.linkedin.com/in/aman-singh-22a4001a3?miniProfileUrn=urn%3Ali%3Afs_miniProfile%3AACoAAC-UYUIBnyaee7FqWafHyXG_Z0kSds3z1hE',\n",
       " 'https://www.linkedin.com/in/aman-singh-2455551a2?miniProfileUrn=urn%3Ali%3Afs_miniProfile%3AACoAAC9sVBUBdTVP1UOf-Jru_YkuoAVXUBXKMJ4',\n",
       " 'https://www.linkedin.com/in/aman-singh-98b9701ab?miniProfileUrn=urn%3Ali%3Afs_miniProfile%3AACoAADEWGHsB_vsk3YA1Ki8tm8QdsbBTwP2HWFI',\n",
       " 'https://www.linkedin.com/in/aman-singh-00b914199?miniProfileUrn=urn%3Ali%3Afs_miniProfile%3AACoAAC6WaAsBh9gCJUCWotMyzjInahXY7gNPpls',\n",
       " 'https://www.linkedin.com/in/amanrajsingh28?miniProfileUrn=urn%3Ali%3Afs_miniProfile%3AACoAADOlAXIBF4XZMs_7JX0iViGllPX6O2IzRaY',\n",
       " 'https://www.linkedin.com/in/aman-singh-5382351b2?miniProfileUrn=urn%3Ali%3Afs_miniProfile%3AACoAADGDD7wB21rj_sNY7xYlK1tyApRbBW0Dno0']"
      ]
     },
     "execution_count": 28,
     "metadata": {},
     "output_type": "execute_result"
    }
   ],
   "source": [
    "link_list"
   ]
  },
  {
   "cell_type": "code",
   "execution_count": 29,
   "metadata": {},
   "outputs": [],
   "source": [
    "dic1 = {}\n",
    "\n",
    "for n, l in zip(UserName_list, link_list):\n",
    "    if n != '' and not any(char.isdigit() for char in n):\n",
    "        dic1[n] = l\n",
    "\n",
    "Name = list(dic1.keys())\n",
    "url = list(dic1.values())\n"
   ]
  },
  {
   "cell_type": "code",
   "execution_count": 30,
   "metadata": {},
   "outputs": [
    {
     "data": {
      "text/plain": [
       "['Aman Singh', 'Aman Gupta', 'Unstop', 'AMAN SINGH', 'Aman Raj Singh']"
      ]
     },
     "execution_count": 30,
     "metadata": {},
     "output_type": "execute_result"
    }
   ],
   "source": [
    "Name"
   ]
  },
  {
   "cell_type": "code",
   "execution_count": 58,
   "metadata": {},
   "outputs": [],
   "source": [
    "User_Name=[]\n",
    "Profile_URL=[]\n",
    "Headline=[]\n",
    "Address=[]\n",
    "\n",
    "if len(SUbtitle_List[0])>5  and len(Location_List[0])>5 and len(Name)>5:\n",
    "    User_Name.append(Name[:5])\n",
    "    Profile_URL.append(url[:5])\n",
    "    Headline.append(SUbtitle_List[0][:5])\n",
    "    Address.append(Location_List[0][:5])\n",
    "else:\n",
    "    User_Name.append(Name[:3])\n",
    "    Profile_URL.append(url[:3])\n",
    "    Headline.append(SUbtitle_List[0][:3])\n",
    "    Address.append(Location_List[0][:3])\n"
   ]
  },
  {
   "cell_type": "code",
   "execution_count": 59,
   "metadata": {},
   "outputs": [
    {
     "data": {
      "text/plain": [
       "[['Noida', 'Lucknow', 'Noida']]"
      ]
     },
     "execution_count": 59,
     "metadata": {},
     "output_type": "execute_result"
    }
   ],
   "source": [
    "Address"
   ]
  },
  {
   "cell_type": "code",
   "execution_count": 60,
   "metadata": {},
   "outputs": [],
   "source": [
    "df=pd.DataFrame({\n",
    "    \"User_Name\":User_Name[0],\n",
    "    \"Headline\": Headline[0],\n",
    "    \"Address\" : Address[0],\n",
    "    \"Profile_URL\": Profile_URL[0]\n",
    "})"
   ]
  },
  {
   "cell_type": "code",
   "execution_count": 61,
   "metadata": {},
   "outputs": [
    {
     "data": {
      "text/html": [
       "<div>\n",
       "<style scoped>\n",
       "    .dataframe tbody tr th:only-of-type {\n",
       "        vertical-align: middle;\n",
       "    }\n",
       "\n",
       "    .dataframe tbody tr th {\n",
       "        vertical-align: top;\n",
       "    }\n",
       "\n",
       "    .dataframe thead th {\n",
       "        text-align: right;\n",
       "    }\n",
       "</style>\n",
       "<table border=\"1\" class=\"dataframe\">\n",
       "  <thead>\n",
       "    <tr style=\"text-align: right;\">\n",
       "      <th></th>\n",
       "      <th>User_Name</th>\n",
       "      <th>Headline</th>\n",
       "      <th>Address</th>\n",
       "      <th>Profile_URL</th>\n",
       "    </tr>\n",
       "  </thead>\n",
       "  <tbody>\n",
       "    <tr>\n",
       "      <th>0</th>\n",
       "      <td>Aman Singh</td>\n",
       "      <td>Software Engineer at Landis+Gyr</td>\n",
       "      <td>Noida</td>\n",
       "      <td>https://www.linkedin.com/in/aman-singh-5382351...</td>\n",
       "    </tr>\n",
       "    <tr>\n",
       "      <th>1</th>\n",
       "      <td>Aman Gupta</td>\n",
       "      <td>Developer @TCS</td>\n",
       "      <td>Lucknow</td>\n",
       "      <td>https://www.linkedin.com/in/ACoAAAMkc8kBdWKTLl...</td>\n",
       "    </tr>\n",
       "    <tr>\n",
       "      <th>2</th>\n",
       "      <td>Unstop</td>\n",
       "      <td>Associate Software Engineer@Accenture | Fronte...</td>\n",
       "      <td>Noida</td>\n",
       "      <td>https://www.linkedin.com/company/unstop/</td>\n",
       "    </tr>\n",
       "  </tbody>\n",
       "</table>\n",
       "</div>"
      ],
      "text/plain": [
       "    User_Name  ...                                        Profile_URL\n",
       "0  Aman Singh  ...  https://www.linkedin.com/in/aman-singh-5382351...\n",
       "1  Aman Gupta  ...  https://www.linkedin.com/in/ACoAAAMkc8kBdWKTLl...\n",
       "2      Unstop  ...           https://www.linkedin.com/company/unstop/\n",
       "\n",
       "[3 rows x 4 columns]"
      ]
     },
     "execution_count": 61,
     "metadata": {},
     "output_type": "execute_result"
    }
   ],
   "source": [
    "df"
   ]
  },
  {
   "cell_type": "code",
   "execution_count": 63,
   "metadata": {},
   "outputs": [],
   "source": [
    "# Writing DataFrame to CSV file\n",
    "df.to_csv(\"Script_Output.csv\", index=True)"
   ]
  },
  {
   "cell_type": "code",
   "execution_count": null,
   "metadata": {},
   "outputs": [],
   "source": []
  },
  {
   "cell_type": "code",
   "execution_count": null,
   "metadata": {},
   "outputs": [],
   "source": []
  }
 ],
 "metadata": {
  "kernelspec": {
   "display_name": "Python 3",
   "language": "python",
   "name": "python3"
  },
  "language_info": {
   "codemirror_mode": {
    "name": "ipython",
    "version": 3
   },
   "file_extension": ".py",
   "mimetype": "text/x-python",
   "name": "python",
   "nbconvert_exporter": "python",
   "pygments_lexer": "ipython3",
   "version": "3.7.7"
  },
  "orig_nbformat": 4
 },
 "nbformat": 4,
 "nbformat_minor": 2
}
