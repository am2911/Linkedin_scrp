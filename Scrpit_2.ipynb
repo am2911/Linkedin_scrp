{
 "cells": [
  {
   "cell_type": "code",
   "execution_count": 1,
   "metadata": {},
   "outputs": [],
   "source": [
    "import requests"
   ]
  },
  {
   "cell_type": "code",
   "execution_count": 7,
   "metadata": {},
   "outputs": [
    {
     "name": "stdout",
     "output_type": "stream",
     "text": [
      "Error: 404, {\"serviceErrorCode\":0,\"message\":\"Resource search does not exist\",\"status\":404}\n",
      "No search results or an error occurred.\n"
     ]
    }
   ],
   "source": [
    "\n",
    "def API_search(first_name, last_name, access_token):\n",
    "    \n",
    "    search_endpoint = 'https://api.linkedin.com/v2/search/people'\n",
    "    headers = {\n",
    "        'Authorization': f'Bearer {access_token}',\n",
    "        'Content-Type': 'application/json',\n",
    "    }\n",
    "\n",
    "    # Search parameters\n",
    "    params = {\n",
    "        'q': f'firstName:{first_name} AND lastName:{last_name}',\n",
    "    }\n",
    "\n",
    "    # Make the API request\n",
    "    response = requests.get(search_endpoint, params=params, headers=headers)\n",
    "\n",
    "    # Check if the request was successful\n",
    "    if response.status_code == 200:\n",
    "        return response.json()\n",
    "    else:\n",
    "        print(f\"Error: {response.status_code}, {response.text}\")\n",
    "        return None\n",
    "\n",
    "\n",
    "def extract_profile_details(profile):\n",
    "    \n",
    "    # Extract and print relevant details from the profile\n",
    "    print(f\"Name: {profile.get('firstName', '')} {profile.get('lastName', '')}\")\n",
    "    print(f\"Headline: {profile.get('headline', '')}\")\n",
    "    print(f\"LinkedIn Profile URL: {profile.get('publicIdentifier', '')}\")\n",
    "    print(\"---\")\n",
    "\n",
    "\n",
    "# Take user input for first name and last name\n",
    "first_name_input = input(\"Enter the first name: \")\n",
    "last_name_input = input(\"Enter the last name: \")\n",
    "access_token =' AQU_L7FHWkoAK8XqHHh5HRQDfH9pXzDBw6EMgKDx1St9N9FfD_L-nfkjXqIavJBGBCHF0_joD6TcnCm38RWYJxkGbZ6Ule9DFzo67jeMUFAPSJhyLA_4pkKsitaF0X5B-yHNpPNoTbkIuHvZI1pTsIVL4anZMGEwXhVr3HJB9Zz-vAl2zYcLfW36Fsp_35U1MEFmIlKK4gMDpu7xEgS5PQfMTqqyEbZH1CpfZP1v2Nl8gXYfoLJ1ROBDbueRtlbopvnVjKWTckZcWjov-hmFHm3A74AuOUNYSvMiZMW4KAjfQ-a2_WLdFcj_AdqgzzQ5oUVuQxT8-gu4tNqnU0V62wWA-dcQHA'  \n",
    "\n",
    "search_results = API_search(first_name_input, last_name_input, access_token)\n",
    "\n",
    "# Process the search results\n",
    "if search_results:\n",
    "    for result in search_results.get('elements', []):\n",
    "        extract_profile_details(result)\n",
    "else:\n",
    "    print(\"No search results or an error occurred.\")\n"
   ]
  },
  {
   "cell_type": "code",
   "execution_count": null,
   "metadata": {},
   "outputs": [],
   "source": []
  }
 ],
 "metadata": {
  "kernelspec": {
   "display_name": "Python 3",
   "language": "python",
   "name": "python3"
  },
  "language_info": {
   "codemirror_mode": {
    "name": "ipython",
    "version": 3
   },
   "file_extension": ".py",
   "mimetype": "text/x-python",
   "name": "python",
   "nbconvert_exporter": "python",
   "pygments_lexer": "ipython3",
   "version": "3.7.7"
  },
  "orig_nbformat": 4
 },
 "nbformat": 4,
 "nbformat_minor": 2
}
